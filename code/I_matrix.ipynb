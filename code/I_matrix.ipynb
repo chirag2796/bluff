{
 "cells": [
  {
   "cell_type": "markdown",
   "metadata": {},
   "source": [
    "# Import packages"
   ]
  },
  {
   "cell_type": "code",
   "execution_count": 42,
   "metadata": {},
   "outputs": [],
   "source": [
    "# Set auto reload for python functions\n",
    "%reload_ext autoreload\n",
    "%autoreload 2\n",
    "\n",
    "# Import packages\n",
    "import os\n",
    "import glob\n",
    "import tqdm\n",
    "import tensorflow as tf\n",
    "from collections import defaultdict\n",
    "from time import time\n",
    "from I_matrix import get_act_sizes\n",
    "from I_matrix import get_weight_sizes\n",
    "from I_matrix import get_channel_sizes\n",
    "from I_matrix import gen_I_matrix\n",
    "from data_parser import _parse_function\n",
    "from keras.applications.inception_v3 import preprocess_input\n",
    "\n",
    "# GoogLeNet # Need to install lucid with the command: `pip install lucid`\n",
    "import lucid.modelzoo.vision_models as models\n",
    "import lucid.optvis.render as render"
   ]
  },
  {
   "cell_type": "markdown",
   "metadata": {},
   "source": [
    "# Setup"
   ]
  },
  {
   "cell_type": "code",
   "execution_count": 45,
   "metadata": {},
   "outputs": [],
   "source": [
    "# GPU to use\n",
    "use_gpu = False\n",
    "gpu = 0\n",
    "\n",
    "# Input directory path\n",
    "input_dir_path = '/Users/haekyu/data/imagenet-tf-records'\n",
    "\n",
    "# Output directory path\n",
    "output_dir_path = '/Users/haekyu/data/massif/I-mat'\n",
    "\n",
    "# Layer info\n",
    "layer_sizes = {\n",
    "    'mixed3a': 256,\n",
    "    'mixed3b': 480,\n",
    "    'mixed4a': 508,\n",
    "    'mixed4b': 512,\n",
    "    'mixed4c': 512,\n",
    "    'mixed4d': 528,\n",
    "    'mixed4e': 832,\n",
    "    'mixed5a': 832,\n",
    "    'mixed5b': 1024\n",
    "}\n",
    "mixed_layers = list(layer_sizes.keys())\n",
    "\n",
    "# Class info\n",
    "num_class = 1000\n",
    "\n",
    "# Pick a layer\n",
    "layer = 'mixed3b'\n",
    "\n",
    "# The number of top neurons to select\n",
    "k = 5\n",
    "\n",
    "# Batch size\n",
    "batch = 500"
   ]
  },
  {
   "cell_type": "code",
   "execution_count": 5,
   "metadata": {},
   "outputs": [],
   "source": [
    "# Assign a GPU\n",
    "if use_gpu:\n",
    "    os.environ[\"CUDA_VISIBLE_DEVICES\"] = str(gpu)"
   ]
  },
  {
   "cell_type": "code",
   "execution_count": 6,
   "metadata": {},
   "outputs": [],
   "source": [
    "# Outlier nodes\n",
    "outlier_nodes = ['mixed3a-67', 'mixed3a-190', 'mixed3b-390', 'mixed3b-399', 'mixed3b-412']"
   ]
  },
  {
   "cell_type": "markdown",
   "metadata": {},
   "source": [
    "## Import GoogLeNet"
   ]
  },
  {
   "cell_type": "code",
   "execution_count": 8,
   "metadata": {},
   "outputs": [],
   "source": [
    "# Import googlenet\n",
    "googlenet = models.InceptionV1()\n",
    "googlenet.load_graphdef()\n",
    "nodes = googlenet.graph_def.node"
   ]
  },
  {
   "cell_type": "code",
   "execution_count": 14,
   "metadata": {},
   "outputs": [],
   "source": [
    "# Googlenet size info\n",
    "layer_fragment_sizes = {layer: get_channel_sizes(layer, nodes) for layer in mixed_layers}\n",
    "weight_sizes = get_weight_sizes(nodes, mixed_layers)\n",
    "act_sizes = get_act_sizes(weight_sizes, mixed_layers)"
   ]
  },
  {
   "cell_type": "markdown",
   "metadata": {},
   "source": [
    "# Get I-matrix"
   ]
  },
  {
   "cell_type": "code",
   "execution_count": 48,
   "metadata": {},
   "outputs": [],
   "source": [
    "# Set auto reload for python functions\n",
    "%reload_ext autoreload\n",
    "%autoreload 2\n",
    "from I_matrix import gen_I_matrix\n",
    "I_layer = gen_I_matrix(layer, k, googlenet, batch, input_dir_path, mixed_layers, layer_sizes, act_sizes, layer_fragment_sizes, outlier_nodes, num_class)"
   ]
  },
  {
   "cell_type": "code",
   "execution_count": null,
   "metadata": {},
   "outputs": [],
   "source": []
  }
 ],
 "metadata": {
  "kernelspec": {
   "display_name": "Python 3",
   "language": "python",
   "name": "python3"
  },
  "language_info": {
   "codemirror_mode": {
    "name": "ipython",
    "version": 3
   },
   "file_extension": ".py",
   "mimetype": "text/x-python",
   "name": "python",
   "nbconvert_exporter": "python",
   "pygments_lexer": "ipython3",
   "version": "3.7.3"
  }
 },
 "nbformat": 4,
 "nbformat_minor": 4
}
