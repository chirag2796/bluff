{
 "cells": [
  {
   "cell_type": "markdown",
   "metadata": {},
   "source": [
    "# Import packages"
   ]
  },
  {
   "cell_type": "code",
   "execution_count": 16,
   "metadata": {},
   "outputs": [],
   "source": [
    "# Set auto reload for python functions\n",
    "%reload_ext autoreload\n",
    "%autoreload 2\n",
    "\n",
    "# Import packages\n",
    "import os\n",
    "from I_matrix import get_channel_sizes\n",
    "\n",
    "# GoogLeNet # Need to install lucid with the command: `pip install lucid`\n",
    "import lucid.modelzoo.vision_models as models\n",
    "import lucid.optvis.render as render"
   ]
  },
  {
   "cell_type": "markdown",
   "metadata": {},
   "source": [
    "# Setup"
   ]
  },
  {
   "cell_type": "markdown",
   "metadata": {},
   "source": [
    "## Hyperparameters and file paths"
   ]
  },
  {
   "cell_type": "code",
   "execution_count": 18,
   "metadata": {},
   "outputs": [
    {
     "name": "stdout",
     "output_type": "stream",
     "text": [
      "['mixed3a', 'mixed3b', 'mixed4a', 'mixed4b', 'mixed4c', 'mixed4d', 'mixed4e', 'mixed5a', 'mixed5b']\n",
      "{'mixed3a': [64, 128, 32, 32], 'mixed3b': [128, 192, 96, 64], 'mixed4a': [192, 204, 48, 64], 'mixed4b': [160, 224, 64, 64], 'mixed4c': [128, 256, 64, 64], 'mixed4d': [112, 288, 64, 64], 'mixed4e': [256, 320, 128, 128], 'mixed5a': [256, 320, 128, 128], 'mixed5b': [384, 384, 128, 128]}\n"
     ]
    }
   ],
   "source": [
    "# GPU to use\n",
    "use_gpu = False\n",
    "gpu = 0\n",
    "\n",
    "# Input directory path\n",
    "input_dir_path = '/Users/haekyu/data/imagenet-tf-records'\n",
    "\n",
    "# Output directory path\n",
    "output_dir_path = '/Users/haekyu/data/massif/I-mat'\n",
    "\n",
    "# Layer info\n",
    "layer_sizes = {\n",
    "    'mixed3a': 256,\n",
    "    'mixed3b': 480,\n",
    "    'mixed4a': 508,\n",
    "    'mixed4b': 512,\n",
    "    'mixed4c': 512,\n",
    "    'mixed4d': 528,\n",
    "    'mixed4e': 832,\n",
    "    'mixed5a': 832,\n",
    "    'mixed5b': 1024\n",
    "}\n",
    "layers = list(layer_sizes.keys())\n",
    "mixed_layers = [layer for layer in layers if 'mixed' in layer]\n",
    "layer_fragment_sizes = {layer: get_channel_sizes(layer, nodes) for layer in mixed_layers}\n",
    "\n",
    "\n",
    "\n",
    "# Hyperparameters\n",
    "\n",
    "# Class info\n",
    "num_class = 1000\n"
   ]
  },
  {
   "cell_type": "code",
   "execution_count": 4,
   "metadata": {},
   "outputs": [],
   "source": [
    "# Assign a GPU\n",
    "if use_gpu:\n",
    "    os.environ[\"CUDA_VISIBLE_DEVICES\"] = str(gpu)"
   ]
  },
  {
   "cell_type": "markdown",
   "metadata": {},
   "source": [
    "## Import GoogLeNet"
   ]
  },
  {
   "cell_type": "code",
   "execution_count": 6,
   "metadata": {},
   "outputs": [],
   "source": [
    "googlenet = models.InceptionV1()\n",
    "googlenet.load_graphdef()\n",
    "nodes = googlenet.graph_def.node"
   ]
  },
  {
   "cell_type": "code",
   "execution_count": null,
   "metadata": {},
   "outputs": [],
   "source": []
  }
 ],
 "metadata": {
  "kernelspec": {
   "display_name": "Python 3",
   "language": "python",
   "name": "python3"
  },
  "language_info": {
   "codemirror_mode": {
    "name": "ipython",
    "version": 3
   },
   "file_extension": ".py",
   "mimetype": "text/x-python",
   "name": "python",
   "nbconvert_exporter": "python",
   "pygments_lexer": "ipython3",
   "version": "3.7.3"
  }
 },
 "nbformat": 4,
 "nbformat_minor": 4
}
