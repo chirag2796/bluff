{
 "cells": [
  {
   "cell_type": "markdown",
   "metadata": {},
   "source": [
    "# Generate graph for multiple benign and attacked imgs"
   ]
  },
  {
   "cell_type": "markdown",
   "metadata": {},
   "source": [
    "## Import packages"
   ]
  },
  {
   "cell_type": "code",
   "execution_count": 5,
   "metadata": {},
   "outputs": [
    {
     "name": "stdout",
     "output_type": "stream",
     "text": [
      "1.15.0\n"
     ]
    }
   ],
   "source": [
    "# Set auto reload for python functions\n",
    "%reload_ext autoreload\n",
    "%autoreload 2\n",
    "\n",
    "# Helper libraries\n",
    "import os\n",
    "import cv2\n",
    "import glob\n",
    "import tqdm\n",
    "import numpy as np\n",
    "from time import time\n",
    "import tensorflow as tf\n",
    "import matplotlib.pyplot as plt\n",
    "from networkx.readwrite import json_graph\n",
    "\n",
    "# GoogLeNet\n",
    "import lucid.modelzoo.vision_models as models\n",
    "\n",
    "# Libraries provided by Massif project\n",
    "import constant\n",
    "import A_matrix\n",
    "import I_matrix\n",
    "import model_helper\n",
    "import gen_graph\n",
    "\n",
    "print(tf.VERSION)"
   ]
  },
  {
   "cell_type": "markdown",
   "metadata": {},
   "source": [
    "## Import GoogLeNet (InceptionV1) model"
   ]
  },
  {
   "cell_type": "code",
   "execution_count": 4,
   "metadata": {},
   "outputs": [],
   "source": [
    "googlenet = models.InceptionV1()\n",
    "googlenet.load_graphdef()"
   ]
  },
  {
   "cell_type": "markdown",
   "metadata": {},
   "source": [
    "## Get constants and hyperparameters"
   ]
  },
  {
   "cell_type": "code",
   "execution_count": 6,
   "metadata": {},
   "outputs": [
    {
     "name": "stdout",
     "output_type": "stream",
     "text": [
      "Constants and hyperparameters in args:\n",
      "['gpu', 'batch_A', 'batch_I', 'layer', 'k_A', 'layer_sizes', 'layers', 'layer_blk_sizes', 'blk_headers', 'num_classes', 'img_width', 'img_height']\n"
     ]
    }
   ],
   "source": [
    "args = constant.Args\n",
    "arg_keys = [arg for arg in args.__dict__.keys() if '__' not in arg]\n",
    "\n",
    "print('Constants and hyperparameters in args:')\n",
    "print(arg_keys)"
   ]
  },
  {
   "cell_type": "markdown",
   "metadata": {},
   "source": [
    "## Read benign images"
   ]
  },
  {
   "cell_type": "code",
   "execution_count": 8,
   "metadata": {},
   "outputs": [],
   "source": [
    "benign_dirpath = '../data/sample-images/sample-benign'\n",
    "\n",
    "benign_imgs = []\n",
    "for benign_filename in os.listdir(benign_dirpath):\n",
    "    if 'jpg' in benign_filename:\n",
    "        benign_img = plt.imread('{}/{}'.format(benign_dirpath, benign_filename))\n",
    "        benign_imgs.append(benign_img)"
   ]
  },
  {
   "cell_type": "markdown",
   "metadata": {},
   "source": [
    "## Read attacked images with different strength"
   ]
  },
  {
   "cell_type": "code",
   "execution_count": 19,
   "metadata": {},
   "outputs": [],
   "source": [
    "attacked_dirpath = '../data/sample-images/sample-attacked'\n",
    "targeted_classname = 'armadillo'\n",
    "\n",
    "attacked_imgs = {}\n",
    "for attacked_filename in os.listdir(attacked_dirpath):\n",
    "    if targeted_classname not in attacked_filename:\n",
    "        continue\n",
    "    if 'npy' in attacked_filename:\n",
    "        split_str_in_filename = attacked_filename.split('-')\n",
    "        eps = float(split_str_in_filename[-2])\n",
    "        if eps not in attacked_imgs:\n",
    "            attacked_imgs[eps] = []\n",
    "        img = np.load('{}/{}'.format(attacked_dirpath, attacked_filename))\n",
    "        attacked_imgs[eps].append(img)"
   ]
  },
  {
   "cell_type": "markdown",
   "metadata": {},
   "source": [
    "## A_matrix: generate nodes\n",
    "\n",
    "- A-matrix: shape of (#layers, #neurons)"
   ]
  },
  {
   "cell_type": "markdown",
   "metadata": {},
   "source": [
    "### A_matrix of the **benign** images"
   ]
  },
  {
   "cell_type": "code",
   "execution_count": 30,
   "metadata": {},
   "outputs": [],
   "source": [
    "A_benign = A_matrix.init_A_matrix_single_class(args)"
   ]
  },
  {
   "cell_type": "code",
   "execution_count": 33,
   "metadata": {},
   "outputs": [],
   "source": [
    "act_scores_benign = model_helper.get_all_layers_activation_score(googlenet, benign_imgs, args.layers)"
   ]
  },
  {
   "cell_type": "code",
   "execution_count": 51,
   "metadata": {},
   "outputs": [],
   "source": [
    "for layer in args.layers:\n",
    "    median_act_score_across_imgs = np.median(act_scores_benign[layer], axis=0)\n",
    "    A_benign[layer] = median_act_score_across_imgs"
   ]
  },
  {
   "cell_type": "markdown",
   "metadata": {},
   "source": [
    "### A_matrix of the **attacked** image"
   ]
  },
  {
   "cell_type": "code",
   "execution_count": 56,
   "metadata": {},
   "outputs": [],
   "source": [
    "epss = [2, 2.5, 3, 3.5]\n",
    "\n",
    "A_attacked_dict = {}\n",
    "for eps in epss:\n",
    "    A_attacked = A_matrix.init_A_matrix_single_class(args)\n",
    "    A_attacked_dict[eps] = A_attacked"
   ]
  },
  {
   "cell_type": "code",
   "execution_count": 57,
   "metadata": {},
   "outputs": [],
   "source": [
    "for eps in epss:\n",
    "    \n",
    "    # Get the activation scores\n",
    "    act_scores_attacked = model_helper.get_all_layers_activation_score(googlenet, attacked_imgs[eps], args.layers)\n",
    "    \n",
    "    # Save the median activation scores\n",
    "    for layer in args.layers:\n",
    "        median_act_score_across_imgs = np.median(act_scores_attacked[layer], axis=0)\n",
    "        A_attacked_dict[eps][layer] = median_act_score_across_imgs"
   ]
  },
  {
   "cell_type": "markdown",
   "metadata": {},
   "source": [
    "## I_matrix: generate edges\n",
    "\n",
    "- I_matrix for a given layer: (#neurons, #previous_neurons)"
   ]
  },
  {
   "cell_type": "markdown",
   "metadata": {},
   "source": [
    "### I_matrix of the **benign** image"
   ]
  },
  {
   "cell_type": "code",
   "execution_count": 20,
   "metadata": {},
   "outputs": [],
   "source": [
    "Is_benign = I_matrix.gen_I_matrices(args, [raw_benign], googlenet)"
   ]
  },
  {
   "cell_type": "code",
   "execution_count": 21,
   "metadata": {},
   "outputs": [],
   "source": [
    "I_benign = Is_benign[0]"
   ]
  },
  {
   "cell_type": "markdown",
   "metadata": {},
   "source": [
    "### I_matrix of the **attacked** image"
   ]
  },
  {
   "cell_type": "code",
   "execution_count": 23,
   "metadata": {},
   "outputs": [],
   "source": [
    "Is_attacked = I_matrix.gen_I_matrices(args, [raw_attacked], googlenet)"
   ]
  },
  {
   "cell_type": "code",
   "execution_count": 24,
   "metadata": {},
   "outputs": [],
   "source": [
    "I_attacked = Is_attacked[0]"
   ]
  },
  {
   "cell_type": "markdown",
   "metadata": {},
   "source": [
    "### I_matrix of the **correct** class (white wolf) and **misclassified** class (mexican hairless)"
   ]
  },
  {
   "cell_type": "code",
   "execution_count": 22,
   "metadata": {},
   "outputs": [
    {
     "name": "stdout",
     "output_type": "stream",
     "text": [
      "167.26 sec\n"
     ]
    }
   ],
   "source": [
    "# Directory Path\n",
    "I_mat_summit_dir_path = '/Users/haekyu/data/summit/I-mat'\n",
    "\n",
    "# Read and parse the summit I matrices\n",
    "tic = time()\n",
    "I_correct_class = gen_graph.I_from_summit_to_massif(args, I_mat_summit_dir_path, white_wolf)\n",
    "I_mis_class = gen_graph.I_from_summit_to_massif(args, I_mat_summit_dir_path, mexican_hairless)\n",
    "toc = time()\n",
    "print('%.2lf sec' % (toc - tic))"
   ]
  },
  {
   "cell_type": "markdown",
   "metadata": {},
   "source": [
    "### Prepare vis"
   ]
  },
  {
   "cell_type": "code",
   "execution_count": 26,
   "metadata": {},
   "outputs": [
    {
     "name": "stdout",
     "output_type": "stream",
     "text": [
      "got activated\n",
      "{'mixed3a': [], 'mixed3b': [309, 133, 379, 158, 15, 380], 'mixed4a': [390], 'mixed4b': [229, 367, 307], 'mixed4c': [236, 245, 50, 412], 'mixed4d': [330, 341], 'mixed4e': [6, 763, 25, 620, 389, 783, 280], 'mixed5a': [732, 814, 394, 739, 407, 499, 9, 760, 307, 207, 496], 'mixed5b': [854, 973, 32, 236, 524, 788, 64, 474, 841, 886, 930, 775, 888, 402, 417, 129, 229, 783, 400, 436, 197, 851, 303, 427, 654, 667, 346]}\n",
      "\n",
      "got_idle\n",
      "{'mixed3a': [], 'mixed3b': [362, 345, 370, 152], 'mixed4a': [326, 396, 244, 232, 392], 'mixed4b': [176, 375], 'mixed4c': [321, 166, 178], 'mixed4d': [37, 168, 326], 'mixed4e': [423, 339, 732, 660, 73, 816, 818, 765], 'mixed5a': [688, 513, 293, 58, 445, 768, 413, 239, 265], 'mixed5b': [447, 358, 921, 225, 91, 522, 902, 335, 941, 12, 175, 915, 643, 735, 340, 195, 11, 857, 523, 101, 476, 289]}\n",
      "\n",
      "both_activated\n",
      "{'mixed3a': [190, 143, 67, 69, 157, 102, 184, 122, 71, 81, 152, 206, 117, 169, 133, 96, 173, 179, 101, 154, 156, 127, 105, 124, 137, 185, 196, 92, 146, 109, 153, 174, 106, 86, 87, 112], 'mixed3b': [390, 399, 327, 412, 366, 359, 406, 198, 238, 206, 388, 183, 267, 413, 159, 355, 343, 324, 166, 140, 353, 276, 257, 258, 357, 409, 385, 168, 226, 411, 312, 340, 326], 'mixed4a': [310, 381, 268, 227, 201, 140, 236, 220, 199, 215, 229, 230, 207, 285, 329, 279, 264, 369, 371, 223, 247, 383, 290, 221, 252, 312, 196, 428, 274, 267, 261, 355, 224, 307], 'mixed4b': [418, 232, 264, 175, 329, 429, 249, 434, 408, 246, 153, 260, 412, 390, 237, 240, 141, 443, 200, 445, 355, 396, 422, 312, 74, 414, 439, 436, 348, 171, 179, 269, 67, 276, 214], 'mixed4c': [264, 216, 352, 262, 376, 407, 272, 307, 346, 371, 257, 414, 471, 415, 224, 246, 472, 325, 495, 440, 300, 56, 25, 37, 295, 429, 324, 128, 207, 506, 343, 131, 410, 418, 304, 225], 'mixed4d': [431, 225, 428, 446, 403, 340, 477, 221, 501, 162, 139, 384, 338, 455, 77, 312, 374, 390, 383, 459, 28, 240, 463, 300, 493, 264, 401, 318, 409, 290, 418, 277, 448, 417, 118, 267], 'mixed4e': [787, 36, 597, 593, 614, 713, 759, 698, 734, 591, 735, 537, 696, 410, 582, 699, 309, 608, 149, 766, 289, 363, 648, 688, 392, 661, 82, 747, 625, 113, 518], 'mixed5a': [610, 1, 386, 345, 218, 647, 0, 360, 544, 255, 18, 577, 650, 767, 493, 406, 618, 333, 669, 85, 317, 81, 334, 591, 755], 'mixed5b': [10, 313, 990, 956, 936, 211, 742, 364, 232, 305, 663]}\n"
     ]
    }
   ],
   "source": [
    "got_activated = {}\n",
    "got_idle = {}\n",
    "both_activated = {}\n",
    "\n",
    "for layer in args.layers:\n",
    "    benign_activations = As_benign[layer]\n",
    "    attacked_activations = As_attacked[layer]\n",
    "\n",
    "    diff = benign_activations - attacked_activations\n",
    "    abs_diff = np.abs(diff)\n",
    "    sorted_neurons_benign = np.argsort(benign_activations)\n",
    "    sorted_neurons_attacked = np.argsort(attacked_activations)\n",
    "    sorted_neurons_diff = np.argsort(diff)\n",
    "\n",
    "    rank_of_neurons_attacked = sorted_neurons_attacked[::-1]\n",
    "    rank_of_neurons_benign = sorted_neurons_benign[::-1]\n",
    "\n",
    "    got_activated_neurons, no_longer_activated_neurons, both_activated_neurons = [], [], []\n",
    "    for neuron in rank_of_neurons_attacked:\n",
    "\n",
    "        rank_in_attacked = np.argwhere(rank_of_neurons_attacked == neuron)\n",
    "        rank_in_benign = np.argwhere(rank_of_neurons_benign == neuron)\n",
    "\n",
    "        is_responsive_to_attacked = rank_in_attacked < top_rank_thresold\n",
    "        is_responsive_to_attacked = is_responsive_to_attacked[0][0]\n",
    "\n",
    "        is_non_responsive_to_benign = rank_in_benign > low_rank_threshold\n",
    "        is_non_responsive_to_benign = is_non_responsive_to_benign[0][0]\n",
    "\n",
    "        is_non_responsive_to_attacked = rank_in_attacked > low_rank_threshold\n",
    "        is_non_responsive_to_attacked = is_non_responsive_to_attacked[0][0]\n",
    "\n",
    "        is_responsive_to_benign = rank_in_benign < top_rank_thresold\n",
    "        is_responsive_to_benign = is_responsive_to_benign[0][0]\n",
    "\n",
    "        if is_responsive_to_attacked and is_non_responsive_to_benign:\n",
    "            got_activated_neurons.append(neuron)\n",
    "\n",
    "        if is_non_responsive_to_attacked and is_responsive_to_benign:\n",
    "            no_longer_activated_neurons.append(neuron)\n",
    "\n",
    "        if is_responsive_to_attacked and is_responsive_to_benign:\n",
    "            both_activated_neurons.append(neuron)\n",
    "\n",
    "    got_activated[layer] = got_activated_neurons[:]\n",
    "    got_idle[layer] = no_longer_activated_neurons[:]\n",
    "    both_activated[layer] = both_activated_neurons[:]\n",
    "\n",
    "print('got activated')\n",
    "print(got_activated)\n",
    "print('\\ngot_idle')\n",
    "print(got_idle)\n",
    "print('\\nboth_activated')\n",
    "print(both_activated)"
   ]
  },
  {
   "cell_type": "markdown",
   "metadata": {},
   "source": [
    "## Generate full graph"
   ]
  },
  {
   "cell_type": "markdown",
   "metadata": {},
   "source": [
    "### Generate full graph of the **Benign** image"
   ]
  },
  {
   "cell_type": "code",
   "execution_count": null,
   "metadata": {},
   "outputs": [],
   "source": [
    "G_benign = gen_graph.gen_full_graph(args, As_benign, I_benign)"
   ]
  },
  {
   "cell_type": "code",
   "execution_count": null,
   "metadata": {},
   "outputs": [],
   "source": [
    "G_benign_json = json_graph.node_link_data(G_benign)"
   ]
  },
  {
   "cell_type": "code",
   "execution_count": null,
   "metadata": {},
   "outputs": [],
   "source": [
    "benign_str_parsed_nodes = list(map(lambda x: {'weight': str(x['weight']), 'id': x['id']}, G_benign_json['nodes']))\n",
    "benign_str_parsed_links = list(map(lambda x: {'source': x['source'], 'target': x['target'], 'weight': str(x['weight'])}, G_benign_json['links']))\n",
    "G_benign_str_json = {'nodes': benign_str_parsed_nodes, 'links': benign_str_parsed_links}"
   ]
  },
  {
   "cell_type": "code",
   "execution_count": null,
   "metadata": {},
   "outputs": [],
   "source": [
    "graph_dir_path = '/Users/haekyu/data/massif/full-graph'\n",
    "file_path = '{}/{}.json'.format(graph_dir_path, 'G-benign')\n",
    "with open(file_path, 'w') as f:\n",
    "    json.dump(G_benign_str_json, f)"
   ]
  },
  {
   "cell_type": "markdown",
   "metadata": {},
   "source": [
    "### Generate full graph of the **Attacked** image"
   ]
  },
  {
   "cell_type": "code",
   "execution_count": null,
   "metadata": {},
   "outputs": [],
   "source": [
    "G_attacked = gen_graph.gen_full_graph(args, As_attacked, I_attacked)"
   ]
  },
  {
   "cell_type": "code",
   "execution_count": null,
   "metadata": {},
   "outputs": [],
   "source": [
    "G_attacked_json = json_graph.node_link_data(G_attacked)"
   ]
  },
  {
   "cell_type": "code",
   "execution_count": null,
   "metadata": {},
   "outputs": [],
   "source": [
    "attacked_str_parsed_nodes = list(map(lambda x: {'weight': str(x['weight']), 'id': x['id']}, G_attacked_json['nodes']))\n",
    "attacked_str_parsed_links = list(map(lambda x: {'source': x['source'], 'target': x['target'], 'weight': str(x['weight'])}, G_attacked_json['links']))\n",
    "G_attacked_str_json = {'nodes': attacked_str_parsed_nodes, 'links': attacked_str_parsed_links}"
   ]
  },
  {
   "cell_type": "code",
   "execution_count": null,
   "metadata": {},
   "outputs": [],
   "source": [
    "graph_dir_path = '/Users/haekyu/data/massif/full-graph'\n",
    "file_path = '{}/{}.json'.format(graph_dir_path, 'G-attacked')\n",
    "with open(file_path, 'w') as f:\n",
    "    json.dump(G_attacked_str_json, f)"
   ]
  },
  {
   "cell_type": "markdown",
   "metadata": {},
   "source": [
    "### Generate full graph of the **correct** class (white wolf)"
   ]
  },
  {
   "cell_type": "code",
   "execution_count": null,
   "metadata": {},
   "outputs": [],
   "source": [
    "tic = time()\n",
    "G_correct = gen_graph.gen_full_graph(args, As_correct_class, I_correct_class)\n",
    "toc = time()\n",
    "print('Generate full graph of the correct class: %.2lf sec' % (toc - tic))"
   ]
  },
  {
   "cell_type": "code",
   "execution_count": null,
   "metadata": {},
   "outputs": [],
   "source": [
    "tic = time()\n",
    "G_correct_json = json_graph.node_link_data(G_correct)\n",
    "toc = time()\n",
    "print('Full graph into json format: %.2lf sec' % (toc - tic))"
   ]
  },
  {
   "cell_type": "code",
   "execution_count": null,
   "metadata": {},
   "outputs": [],
   "source": [
    "tic = time()\n",
    "correct_str_parsed_nodes = list(map(lambda x: {'weight': str(x['weight']), 'id': x['id']}, G_correct_json['nodes']))\n",
    "correct_str_parsed_links = list(map(lambda x: {'source': x['source'], 'target': x['target'], 'weight': str(x['weight'])}, G_correct_json['links']))\n",
    "G_correct_str_json = {'nodes': correct_str_parsed_nodes, 'links': correct_str_parsed_links}\n",
    "toc = time()\n",
    "print('Json str parsing: %.2lf sec' % (toc - tic))"
   ]
  },
  {
   "cell_type": "code",
   "execution_count": null,
   "metadata": {},
   "outputs": [],
   "source": [
    "tic = time()\n",
    "graph_dir_path = '/Users/haekyu/data/massif/full-graph'\n",
    "file_path = '{}/{}.json'.format(graph_dir_path, 'G-correct')\n",
    "with open(file_path, 'w') as f:\n",
    "    json.dump(G_correct_str_json, f)\n",
    "toc = time()\n",
    "print('Save graph: %.2lf sec' % (toc - tic))"
   ]
  },
  {
   "cell_type": "markdown",
   "metadata": {},
   "source": [
    "### Generate full graph of the **misclassified** class (mexican hairless)"
   ]
  },
  {
   "cell_type": "code",
   "execution_count": null,
   "metadata": {},
   "outputs": [],
   "source": [
    "tic = time()\n",
    "G_mis = gen_graph.gen_full_graph(args, As_mis_class, I_mis_class)\n",
    "toc = time()\n",
    "print('Generate full graph of the misclassified class: %.2lf sec' % (toc - tic))"
   ]
  },
  {
   "cell_type": "code",
   "execution_count": null,
   "metadata": {},
   "outputs": [],
   "source": [
    "tic = time()\n",
    "G_mis_json = json_graph.node_link_data(G_mis)\n",
    "toc = time()\n",
    "print('Full graph into json format: %.2lf sec' % (toc - tic))"
   ]
  },
  {
   "cell_type": "code",
   "execution_count": null,
   "metadata": {},
   "outputs": [],
   "source": [
    "tic = time()\n",
    "mis_str_parsed_nodes = list(map(lambda x: {'weight': str(x['weight']), 'id': x['id']}, G_mis_json['nodes']))\n",
    "mis_str_parsed_links = list(map(lambda x: {'source': x['source'], 'target': x['target'], 'weight': str(x['weight'])}, G_mis_json['links']))\n",
    "G_mis_str_json = {'nodes': mis_str_parsed_nodes, 'links': mis_str_parsed_links}\n",
    "toc = time()\n",
    "print('Json str parsing: %.2lf sec' % (toc - tic))"
   ]
  },
  {
   "cell_type": "code",
   "execution_count": null,
   "metadata": {},
   "outputs": [],
   "source": [
    "tic = time()\n",
    "graph_dir_path = '/Users/haekyu/data/massif/full-graph'\n",
    "file_path = '{}/{}.json'.format(graph_dir_path, 'G-mis')\n",
    "with open(file_path, 'w') as f:\n",
    "    json.dump(G_mis_str_json, f)\n",
    "toc = time()\n",
    "print('Save graph: %.2lf sec' % (toc - tic))"
   ]
  },
  {
   "cell_type": "markdown",
   "metadata": {},
   "source": [
    "### Generate full graph of a class (General)"
   ]
  },
  {
   "cell_type": "code",
   "execution_count": null,
   "metadata": {},
   "outputs": [
    {
     "name": "stdout",
     "output_type": "stream",
     "text": [
      "class: 0\n",
      "Read A: 2.43 sec\n",
      "Read I: 107.49 sec\n",
      "Generate full graph: 189.60 sec\n",
      "Full graph into json format: 5.99 sec\n",
      "Json str parsing: 3.03 sec\n",
      "Save graph: 30.85 sec\n",
      "class: 1\n",
      "Read A: 3.56 sec\n",
      "Read I: 148.17 sec\n",
      "Generate full graph: 204.08 sec\n",
      "Full graph into json format: 9.49 sec\n",
      "Json str parsing: 4.69 sec\n",
      "Save graph: 24.08 sec\n",
      "class: 2\n",
      "Read A: 2.94 sec\n",
      "Read I: 133.85 sec\n"
     ]
    }
   ],
   "source": [
    "import json \n",
    "\n",
    "# Directory Path\n",
    "A_mat_summit_dir_path = '/Users/haekyu/data/summit/A-mat'\n",
    "I_mat_summit_dir_path = '/Users/haekyu/data/summit/I-mat'\n",
    "graph_dir_path = '/Users/haekyu/data/massif/full-graph'\n",
    "    \n",
    "for c in range(200):\n",
    "    print('class:', c)\n",
    "\n",
    "    # Read A matrices\n",
    "    tic = time()\n",
    "    A_class = A_matrix.init_A_matrix_single_image(args)\n",
    "    for layer in args.layers:\n",
    "        A_mat_path = '{}/A-0.03-{}.csv'.format(A_mat_summit_dir_path, layer)\n",
    "        A_mat = np.loadtxt(A_mat_path, delimiter=',')\n",
    "        A_class[layer] = A_mat[c]\n",
    "    toc = time()\n",
    "    print('Read A: %.2lf sec' % (toc - tic))\n",
    "    \n",
    "    # Read and parse the summit I matrices\n",
    "    tic = time()\n",
    "    I_class = gen_graph.I_from_summit_to_massif(args, I_mat_summit_dir_path, c)\n",
    "    toc = time()\n",
    "    print('Read I: %.2lf sec' % (toc - tic))\n",
    "    \n",
    "    tic = time()\n",
    "    G_class = gen_graph.gen_full_graph(args, A_class, I_class)\n",
    "    toc = time()\n",
    "    print('Generate full graph: %.2lf sec' % (toc - tic))\n",
    "\n",
    "    tic = time()\n",
    "    G_class_json = json_graph.node_link_data(G_class)\n",
    "    toc = time()\n",
    "    print('Full graph into json format: %.2lf sec' % (toc - tic))\n",
    "\n",
    "    tic = time()\n",
    "    class_str_parsed_nodes = list(map(lambda x: {'weight': str(x['weight']), 'id': x['id']}, G_class_json['nodes']))\n",
    "    class_str_parsed_links = list(map(lambda x: {'source': x['source'], 'target': x['target'], 'weight': str(x['weight'])}, G_class_json['links']))\n",
    "    G_class_str_json = {'nodes': class_str_parsed_nodes, 'links': class_str_parsed_links}\n",
    "    toc = time()\n",
    "    print('Json str parsing: %.2lf sec' % (toc - tic))\n",
    "\n",
    "    tic = time()\n",
    "    file_path = '{}/{}.json'.format(graph_dir_path, 'G-{}'.format(c))\n",
    "    with open(file_path, 'w') as f:\n",
    "        json.dump(G_class_str_json, f)\n",
    "    toc = time()\n",
    "    print('Save graph: %.2lf sec' % (toc - tic))"
   ]
  },
  {
   "cell_type": "code",
   "execution_count": 29,
   "metadata": {},
   "outputs": [
    {
     "data": {
      "text/plain": [
       "284.2105263157895"
      ]
     },
     "execution_count": 29,
     "metadata": {},
     "output_type": "execute_result"
    }
   ],
   "source": []
  },
  {
   "cell_type": "markdown",
   "metadata": {},
   "source": [
    "## Compare the results of benign and attacked images -- ex) layer = mixed4c"
   ]
  },
  {
   "cell_type": "code",
   "execution_count": 19,
   "metadata": {},
   "outputs": [],
   "source": [
    "layer = 'mixed4d'\n",
    "benign_activations = As_benign[layer]\n",
    "attacked_activations = As_attacked[layer]\n",
    "\n",
    "diff = benign_activations - attacked_activations\n",
    "abs_diff = np.abs(diff)\n",
    "sorted_neurons_benign = np.argsort(benign_activations)\n",
    "sorted_neurons_attacked = np.argsort(attacked_activations)\n",
    "sorted_neurons_diff = np.argsort(diff)"
   ]
  },
  {
   "cell_type": "code",
   "execution_count": null,
   "metadata": {},
   "outputs": [],
   "source": [
    "print('Compare activation, neurons sorted by benign')\n",
    "print('Ignore the x-axis numbers; they are not neurons exactly.')\n",
    "plt.plot(benign_activations[sorted_neurons_benign])\n",
    "plt.plot(attacked_activations[sorted_neurons_benign])\n",
    "plt.plot(diff[sorted_neurons_benign])\n",
    "plt.legend(['Benign', 'Attacked', 'Difference (Benign - Attacked)'])\n",
    "plt.xlabel('Neurons sorted by benign')\n",
    "plt.ylabel('Activation')\n",
    "plt.show()"
   ]
  },
  {
   "cell_type": "code",
   "execution_count": null,
   "metadata": {},
   "outputs": [],
   "source": [
    "print('Compare activation, neurons sorted by attacked')\n",
    "print('Ignore the x-axis numbers; they are not neurons exactly.')\n",
    "plt.plot(benign_activations[sorted_neurons_attacked])\n",
    "plt.plot(attacked_activations[sorted_neurons_attacked])\n",
    "plt.plot(diff[sorted_neurons_attacked])\n",
    "plt.legend(['Benign', 'Attacked', 'Difference (Benign - Attacked)'])\n",
    "plt.xlabel('Neurons sorted by attacked')\n",
    "plt.ylabel('Activation')\n",
    "plt.show()"
   ]
  },
  {
   "cell_type": "code",
   "execution_count": null,
   "metadata": {},
   "outputs": [],
   "source": [
    "print('Compare activation, neurons sorted by difference between attacked and benign')\n",
    "print('Ignore the x-axis numbers; they are not neurons exactly.')\n",
    "\n",
    "plt.figure()\n",
    "reverse_sorted_neurons = sorted_neurons_diff[::-1]\n",
    "reverse_sorted_activation = np.sort(diff)[::-1]\n",
    "plt.plot(reverse_sorted_activation)\n",
    "plt.ylabel(\"activation difference\")\n",
    "plt.xlabel('Neurons sorted by difference between attacked and benign')\n",
    "plt.show()\n",
    "print('<--- More benign side      ...     More attacked side --->')"
   ]
  },
  {
   "cell_type": "markdown",
   "metadata": {},
   "source": [
    "## Find out neurons influenced by the attack\n",
    "- The neurons are one of the **highly** activated ones for **attacked** image and **misclassified** class.\n",
    "- The neurons are one of the **barely** activated ones for **benign** image and **original** class."
   ]
  },
  {
   "cell_type": "code",
   "execution_count": 20,
   "metadata": {},
   "outputs": [],
   "source": [
    "topk = 10\n",
    "top_standard = 0.1 # 10%\n",
    "low_standard = 0.3 # 30%\n",
    "\n",
    "num_total_neurons = len(sorted_neurons_attacked)\n",
    "top_rank_thresold = num_total_neurons * top_standard\n",
    "low_rank_threshold = num_total_neurons * low_standard"
   ]
  },
  {
   "cell_type": "code",
   "execution_count": 21,
   "metadata": {},
   "outputs": [],
   "source": [
    "rank_of_neurons_attacked = sorted_neurons_attacked[::-1]\n",
    "rank_of_neurons_benign = sorted_neurons_benign[::-1]\n",
    "\n",
    "got_activated_neurons, no_longer_activated_neurons, both_activated_neurons = [], [], []\n",
    "for neuron in rank_of_neurons_attacked:\n",
    "    \n",
    "    rank_in_attacked = np.argwhere(rank_of_neurons_attacked == neuron)\n",
    "    rank_in_benign = np.argwhere(rank_of_neurons_benign == neuron)\n",
    "    \n",
    "    is_responsive_to_attacked = rank_in_attacked < top_rank_thresold\n",
    "    is_responsive_to_attacked = is_responsive_to_attacked[0][0]\n",
    "    \n",
    "    is_non_responsive_to_benign = rank_in_benign > low_rank_threshold\n",
    "    is_non_responsive_to_benign = is_non_responsive_to_benign[0][0]\n",
    "    \n",
    "    is_non_responsive_to_attacked = rank_in_attacked > low_rank_threshold\n",
    "    is_non_responsive_to_attacked = is_non_responsive_to_attacked[0][0]\n",
    "    \n",
    "    is_responsive_to_benign = rank_in_benign < top_rank_thresold\n",
    "    is_responsive_to_benign = is_responsive_to_benign[0][0]\n",
    "    \n",
    "    if is_responsive_to_attacked and is_non_responsive_to_benign:\n",
    "        got_activated_neurons.append(neuron)\n",
    "    \n",
    "    if is_non_responsive_to_attacked and is_responsive_to_benign:\n",
    "        no_longer_activated_neurons.append(neuron)\n",
    "    \n",
    "    if is_responsive_to_attacked and is_responsive_to_benign:\n",
    "        both_activated_neurons.append(neuron)\n",
    "        "
   ]
  },
  {
   "cell_type": "code",
   "execution_count": null,
   "metadata": {},
   "outputs": [],
   "source": [
    "print('Look into neurons that got activatied by the attacked image, while was idle by benign image.')\n",
    "print('The attacked image newly got the following features to fool the model.')\n",
    "print('Neurons:', got_activated_neurons)\n",
    "print()\n",
    "\n",
    "vis_dirpath = '/Users/haekyu/data/summit/summit-data/data/feature-vis'\n",
    "for neuron in got_activated_neurons:\n",
    "    \n",
    "    rank_in_attacked = np.argwhere(rank_of_neurons_attacked == neuron)\n",
    "    rank_in_benign = np.argwhere(rank_of_neurons_benign == neuron)\n",
    "    top_percent_in_attacked = 100 * rank_in_attacked / num_total_neurons\n",
    "    top_percent_in_benign = 100 * rank_in_benign / num_total_neurons\n",
    "    \n",
    "    print('{}-{}'.format(layer, neuron))\n",
    "    print('Top %.2lf%% in benign (White wolf) --> top %.2lf%% in attacked (Mexican hairless)' % (top_percent_in_benign, top_percent_in_attacked))\n",
    "    \n",
    "    plt.figure()\n",
    "    \n",
    "    # Feature vis\n",
    "    plt.subplot(231)\n",
    "    feature_vis_path = '{}/channel/{}-{}-channel.jpg'.format(vis_dirpath, layer, neuron)\n",
    "    feature_vis = plt.imread(feature_vis_path)\n",
    "    plt.axis('off')\n",
    "    plt.imshow(feature_vis)\n",
    "    \n",
    "    # Example patch 0\n",
    "    plt.subplot(234)\n",
    "    ex0_path = '{}/dataset-p/{}-{}-dataset-p-0.jpg'.format(vis_dirpath, layer, neuron)\n",
    "    ex0 = plt.imread(ex0_path)\n",
    "    plt.axis('off')\n",
    "    plt.imshow(ex0)\n",
    "    \n",
    "    # Example patch 1\n",
    "    plt.subplot(232)\n",
    "    ex1_path = '{}/dataset-p/{}-{}-dataset-p-1.jpg'.format(vis_dirpath, layer, neuron)\n",
    "    ex1 = plt.imread(ex1_path)\n",
    "    plt.axis('off')\n",
    "    plt.imshow(ex1)\n",
    "    \n",
    "    # Example patch 2\n",
    "    plt.subplot(235)\n",
    "    ex2_path = '{}/dataset-p/{}-{}-dataset-p-2.jpg'.format(vis_dirpath, layer, neuron)\n",
    "    ex2 = plt.imread(ex2_path)\n",
    "    plt.axis('off')\n",
    "    plt.imshow(ex2)\n",
    "    \n",
    "    # Example patch 3\n",
    "    plt.subplot(233)\n",
    "    ex3_path = '{}/dataset-p/{}-{}-dataset-p-3.jpg'.format(vis_dirpath, layer, neuron)\n",
    "    ex3 = plt.imread(ex3_path)\n",
    "    plt.axis('off')\n",
    "    plt.imshow(ex3)\n",
    "\n",
    "    # Example patch 4\n",
    "    plt.subplot(236)\n",
    "    ex4_path = '{}/dataset-p/{}-{}-dataset-p-4.jpg'.format(vis_dirpath, layer, neuron)\n",
    "    ex4 = plt.imread(ex4_path)\n",
    "    plt.axis('off')\n",
    "    plt.imshow(ex4)\n",
    "    \n",
    "    plt.show()\n"
   ]
  },
  {
   "cell_type": "code",
   "execution_count": null,
   "metadata": {},
   "outputs": [],
   "source": [
    "print('Look into neurons that are no longer activated in attacked image, while was very activated by benign image.')\n",
    "print('The attacked images lose the following features.')\n",
    "print('Neurons:', no_longer_activated_neurons)\n",
    "print()\n",
    "\n",
    "vis_dirpath = '/Users/haekyu/data/summit/summit-data/data/feature-vis'\n",
    "for neuron in no_longer_activated_neurons:\n",
    "    \n",
    "    rank_in_attacked = np.argwhere(rank_of_neurons_attacked == neuron)\n",
    "    rank_in_benign = np.argwhere(rank_of_neurons_benign == neuron)\n",
    "    top_percent_in_attacked = 100 * rank_in_attacked / num_total_neurons\n",
    "    top_percent_in_benign = 100 * rank_in_benign / num_total_neurons\n",
    "    \n",
    "    print('{}-{}'.format(layer, neuron))\n",
    "    print('Top %.2lf%% in benign (White wolf) --> top %.2lf%% in attacked (Mexican hairless)' % (top_percent_in_benign, top_percent_in_attacked))\n",
    "    \n",
    "    plt.figure()\n",
    "    \n",
    "    # Feature vis\n",
    "    plt.subplot(231)\n",
    "    feature_vis_path = '{}/channel/{}-{}-channel.jpg'.format(vis_dirpath, layer, neuron)\n",
    "    feature_vis = plt.imread(feature_vis_path)\n",
    "    plt.axis('off')\n",
    "    plt.imshow(feature_vis)\n",
    "    \n",
    "    # Example patch 0\n",
    "    plt.subplot(234)\n",
    "    ex0_path = '{}/dataset-p/{}-{}-dataset-p-0.jpg'.format(vis_dirpath, layer, neuron)\n",
    "    ex0 = plt.imread(ex0_path)\n",
    "    plt.axis('off')\n",
    "    plt.imshow(ex0)\n",
    "    \n",
    "    # Example patch 1\n",
    "    plt.subplot(232)\n",
    "    ex1_path = '{}/dataset-p/{}-{}-dataset-p-1.jpg'.format(vis_dirpath, layer, neuron)\n",
    "    ex1 = plt.imread(ex1_path)\n",
    "    plt.axis('off')\n",
    "    plt.imshow(ex1)\n",
    "    \n",
    "    # Example patch 2\n",
    "    plt.subplot(235)\n",
    "    ex2_path = '{}/dataset-p/{}-{}-dataset-p-2.jpg'.format(vis_dirpath, layer, neuron)\n",
    "    ex2 = plt.imread(ex2_path)\n",
    "    plt.axis('off')\n",
    "    plt.imshow(ex2)\n",
    "    \n",
    "    # Example patch 3\n",
    "    plt.subplot(233)\n",
    "    ex3_path = '{}/dataset-p/{}-{}-dataset-p-3.jpg'.format(vis_dirpath, layer, neuron)\n",
    "    ex3 = plt.imread(ex3_path)\n",
    "    plt.axis('off')\n",
    "    plt.imshow(ex3)\n",
    "\n",
    "    # Example patch 4\n",
    "    plt.subplot(236)\n",
    "    ex4_path = '{}/dataset-p/{}-{}-dataset-p-4.jpg'.format(vis_dirpath, layer, neuron)\n",
    "    ex4 = plt.imread(ex4_path)\n",
    "    plt.axis('off')\n",
    "    plt.imshow(ex4)\n",
    "    \n",
    "    plt.show()\n"
   ]
  },
  {
   "cell_type": "code",
   "execution_count": null,
   "metadata": {},
   "outputs": [],
   "source": [
    "print('Look into neurons that are no longer activated in attacked image, while was very activated by benign image.')\n",
    "print('The attacked images lose the following features.')\n",
    "print('Neurons:', both_activated_neurons[:topk])\n",
    "print()\n",
    "\n",
    "vis_dirpath = '/Users/haekyu/data/summit/summit-data/data/feature-vis'\n",
    "for neuron in both_activated_neurons[:topk]:\n",
    "    \n",
    "    rank_in_attacked = np.argwhere(rank_of_neurons_attacked == neuron)\n",
    "    rank_in_benign = np.argwhere(rank_of_neurons_benign == neuron)\n",
    "    top_percent_in_attacked = 100 * rank_in_attacked / num_total_neurons\n",
    "    top_percent_in_benign = 100 * rank_in_benign / num_total_neurons\n",
    "    \n",
    "    print('{}-{}'.format(layer, neuron))\n",
    "    print('Top %.2lf%% in benign (White wolf) --> top %.2lf%% in attacked (Mexican hairless)' % (top_percent_in_benign, top_percent_in_attacked))\n",
    "    \n",
    "    plt.figure()\n",
    "    \n",
    "    # Feature vis\n",
    "    plt.subplot(231)\n",
    "    feature_vis_path = '{}/channel/{}-{}-channel.jpg'.format(vis_dirpath, layer, neuron)\n",
    "    feature_vis = plt.imread(feature_vis_path)\n",
    "    plt.axis('off')\n",
    "    plt.imshow(feature_vis)\n",
    "    \n",
    "    # Example patch 0\n",
    "    plt.subplot(234)\n",
    "    ex0_path = '{}/dataset-p/{}-{}-dataset-p-0.jpg'.format(vis_dirpath, layer, neuron)\n",
    "    ex0 = plt.imread(ex0_path)\n",
    "    plt.axis('off')\n",
    "    plt.imshow(ex0)\n",
    "    \n",
    "    # Example patch 1\n",
    "    plt.subplot(232)\n",
    "    ex1_path = '{}/dataset-p/{}-{}-dataset-p-1.jpg'.format(vis_dirpath, layer, neuron)\n",
    "    ex1 = plt.imread(ex1_path)\n",
    "    plt.axis('off')\n",
    "    plt.imshow(ex1)\n",
    "    \n",
    "    # Example patch 2\n",
    "    plt.subplot(235)\n",
    "    ex2_path = '{}/dataset-p/{}-{}-dataset-p-2.jpg'.format(vis_dirpath, layer, neuron)\n",
    "    ex2 = plt.imread(ex2_path)\n",
    "    plt.axis('off')\n",
    "    plt.imshow(ex2)\n",
    "    \n",
    "    # Example patch 3\n",
    "    plt.subplot(233)\n",
    "    ex3_path = '{}/dataset-p/{}-{}-dataset-p-3.jpg'.format(vis_dirpath, layer, neuron)\n",
    "    ex3 = plt.imread(ex3_path)\n",
    "    plt.axis('off')\n",
    "    plt.imshow(ex3)\n",
    "\n",
    "    # Example patch 4\n",
    "    plt.subplot(236)\n",
    "    ex4_path = '{}/dataset-p/{}-{}-dataset-p-4.jpg'.format(vis_dirpath, layer, neuron)\n",
    "    ex4 = plt.imread(ex4_path)\n",
    "    plt.axis('off')\n",
    "    plt.imshow(ex4)\n",
    "    \n",
    "    plt.show()\n"
   ]
  },
  {
   "cell_type": "code",
   "execution_count": null,
   "metadata": {},
   "outputs": [],
   "source": []
  },
  {
   "cell_type": "code",
   "execution_count": null,
   "metadata": {},
   "outputs": [],
   "source": [
    "neuron = got_activated_neurons[0]\n",
    "prev_layer = args.layers[args.layers.index(layer) - 1]\n",
    "\n",
    "with tf.Graph().as_default():\n",
    "    \n",
    "    # Define activation render\n",
    "    t_input = tf.placeholder(tf.float32, [None, 224, 224, 3])\n",
    "    googlenet.import_graph(t_input)\n",
    "    \n",
    "    t_w0, t_w1, t_w2, t_w3, t_w4, t_w5 = model_helper.get_weight_tensors(layer)\n",
    "    t_a0, t_a1, t_a2 = model_helper.get_intermediate_layer_tensors(prev_layer, layer)\n",
    "    t_curr_act_map = tf.get_default_graph().get_tensor_by_name('import/%s:0' % layer)\n",
    "    \n",
    "    blk = model_helper.get_blk_of_neuron(args, layer, neuron)\n",
    "    \n",
    "    if blk == 0:\n",
    "        t_a = t_a0\n",
    "        t_w = t_w0\n",
    "        prev_name = prev_layer\n",
    "    elif blk == 1:\n",
    "        t_a = t_a1\n",
    "        t_w = t_w2\n",
    "        prev_name = '%s_3x3_bottleneck:0' % layer\n",
    "    elif blk == 2:\n",
    "        t_a = t_a2\n",
    "        t_w = t_w4\n",
    "        prev_name = '%s_5x5_bottleneck:0' % layer\n",
    "    elif blk == 3:\n",
    "        t_a = t_a0\n",
    "        t_w = t_w5\n",
    "        prev_name = prev_layer\n",
    "    \n",
    "    with tf.Session() as sess:\n",
    "        prev_act_maps, weight_filter, curr_act_maps = sess.run([t_a, t_w, t_curr_act_map], feed_dict={t_input: [raw_attacked]})"
   ]
  },
  {
   "cell_type": "code",
   "execution_count": null,
   "metadata": {},
   "outputs": [],
   "source": [
    "prev_act_map = prev_act_maps[0]\n",
    "curr_act_map = curr_act_maps[0]\n",
    "prev_act_map_grayscale = np.average(prev_act_map, axis=2)\n",
    "curr_act_map_grayscale = np.average(curr_act_map, axis=2)"
   ]
  },
  {
   "cell_type": "code",
   "execution_count": null,
   "metadata": {},
   "outputs": [],
   "source": [
    "print('Activation map in the previous layer ({})'.format(prev_name))\n",
    "\n",
    "plt.figure()\n",
    "\n",
    "# Attacked image\n",
    "plt.subplot(1, 3, 1)\n",
    "plt.axis('off')\n",
    "plt.imshow(raw_attacked)\n",
    "plt.text(25, -10, 'Attacked image')\n",
    "\n",
    "# Previous layer's activation map\n",
    "prev_act_map_grayscale = np.average(prev_act_map, axis=2)\n",
    "plt.subplot(1, 3, 2)\n",
    "plt.axis('off')\n",
    "plt.imshow(prev_act_map_grayscale)\n",
    "plt.text(0, -2.8, 'Activation map avg')\n",
    "plt.text(1, -1.2, 'in previous layer')\n",
    "\n",
    "# Example patch 0\n",
    "plt.subplot(1, 3, 3)\n",
    "plt.axis('off')\n",
    "plt.imshow(curr_act_map_grayscale)\n",
    "plt.text(0, -2.8, 'Activation map avg')\n",
    "plt.text(1, -1.0, 'in current layer')\n",
    "\n",
    "plt.show()"
   ]
  },
  {
   "cell_type": "code",
   "execution_count": null,
   "metadata": {},
   "outputs": [],
   "source": [
    "neuron = got_activated_neurons[0]\n",
    "neuron_th = neuron\n",
    "for b in range(blk - 1, -1, -1):\n",
    "    b_size = args.layer_blk_sizes['{}_{}'.format(layer, b)]\n",
    "    neuron_th -= b_size\n",
    "    \n",
    "print('{} in {}, {} in block {}'.format(neuron, layer, neuron_th, blk))\n",
    "\n",
    "num_prev_neurons = prev_act_map.shape[-1]\n",
    "num_rows = num_prev_neurons\n",
    "\n",
    "plt.figure(figsize=(10, 200))\n",
    "for prev_neuron in range(num_prev_neurons):\n",
    "    if prev_neuron + 1 == num_rows:\n",
    "        break\n",
    "        \n",
    "    prev_neuron_act_map = prev_act_map[:, :, prev_neuron]\n",
    "    plt.subplot(num_rows, 3, 3 * (prev_neuron + 1) + 1)\n",
    "    plt.axis('off')\n",
    "    plt.imshow(prev_neuron_act_map, cmap='gray')\n",
    "    plt.text(0, -2, 'prev_{}'.format(prev_neuron))\n",
    "    plt.colorbar()\n",
    "    \n",
    "    w = weight_filter[:, :, prev_neuron, neuron_th]\n",
    "    plt.subplot(num_rows, 3, 3 * (prev_neuron + 1) + 2)\n",
    "    plt.axis('off')\n",
    "    plt.imshow(w, cmap='gray')\n",
    "    plt.text(0, -2, 'filter_{}'.format(prev_neuron))\n",
    "    plt.colorbar()\n",
    "    \n",
    "    f = cv2.filter2D(prev_neuron_act_map, -1, w)\n",
    "    plt.subplot(num_rows, 3, 3 * (prev_neuron + 1) + 3)\n",
    "    plt.axis('off')\n",
    "    plt.imshow(f, cmap='gray')\n",
    "    plt.text(0, -2, 'depth_{}'.format(prev_neuron))\n",
    "    plt.colorbar()\n",
    "    \n",
    "plt.show()"
   ]
  },
  {
   "cell_type": "code",
   "execution_count": null,
   "metadata": {},
   "outputs": [],
   "source": []
  }
 ],
 "metadata": {
  "kernelspec": {
   "display_name": "Python 3.7",
   "language": "python",
   "name": "dlwp"
  },
  "language_info": {
   "codemirror_mode": {
    "name": "ipython",
    "version": 3
   },
   "file_extension": ".py",
   "mimetype": "text/x-python",
   "name": "python",
   "nbconvert_exporter": "python",
   "pygments_lexer": "ipython3",
   "version": "3.7.5"
  }
 },
 "nbformat": 4,
 "nbformat_minor": 4
}
