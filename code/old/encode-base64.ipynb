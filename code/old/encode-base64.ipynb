{
 "cells": [
  {
   "cell_type": "code",
   "execution_count": 4,
   "metadata": {},
   "outputs": [],
   "source": [
    "import base64\n",
    "from os import listdir\n",
    "\n",
    "dirpath_c = '/Users/haekyu/GoogleDrive/Gatech/summit/dist/data/feature-vis/channel'\n",
    "imgs_c = [f for f in listdir(dirpath_c) if '.jpg' in f]\n",
    "\n",
    "dirpath_p = '/Users/haekyu/GoogleDrive/Gatech/summit/dist/data/feature-vis/dataset-p'\n",
    "imgs_p = [f for f in listdir(dirpath_p) if '.jpg' in f]\n",
    "\n",
    "dirpath_0 = '/Users/haekyu/GoogleDrive/Gatech/summit/dist/data/feature-vis/diversity-0'\n",
    "imgs_0 = [f for f in listdir(dirpath_0) if '.jpg' in f]\n",
    "\n",
    "dirpath_1 = '/Users/haekyu/GoogleDrive/Gatech/summit/dist/data/feature-vis/diversity-1'\n",
    "imgs_1 = [f for f in listdir(dirpath_1) if '.jpg' in f]\n",
    "\n",
    "dirpath_2 = '/Users/haekyu/GoogleDrive/Gatech/summit/dist/data/feature-vis/diversity-2'\n",
    "imgs_2 = [f for f in listdir(dirpath_2) if '.jpg' in f]\n",
    "\n",
    "dirpath_3 = '/Users/haekyu/GoogleDrive/Gatech/summit/dist/data/feature-vis/diversity-3'\n",
    "imgs_3 = [f for f in listdir(dirpath_3) if '.jpg' in f]"
   ]
  },
  {
   "cell_type": "code",
   "execution_count": 1,
   "metadata": {},
   "outputs": [],
   "source": [
    "# for th, filename in enumerate(imgs_c):\n",
    "#     print(filename)\n",
    "#     layer, channel, _ = filename.split('-')\n",
    "#     print(layer, channel)\n",
    "#     sdf"
   ]
  },
  {
   "cell_type": "code",
   "execution_count": 25,
   "metadata": {},
   "outputs": [],
   "source": [
    "save_dirpath = '/Users/haekyu/GoogleDrive/Gatech/summit/js'\n",
    "write_filepath = '%s/%s' % (save_dirpath, 'base64-convert.js')\n",
    "\n",
    "with open(write_filepath, 'w') as write_f:\n",
    "    \n",
    "    write_f.write(\n",
    "        'export var base64dict = {\\n'\n",
    "    )\n",
    "    \n",
    "    for th, filename in enumerate(imgs_c):\n",
    "        # Get layer and channel\n",
    "        layer, channel, _ = filename.split('-')\n",
    "        \n",
    "        # Read\n",
    "        read_filepath = '%s/%s' % (dirpath_c, filename)\n",
    "        with open(read_filepath, 'rb') as f:\n",
    "            encoded_string = base64.b64encode(f.read())\n",
    "            \n",
    "        # Write\n",
    "        write_f.write(\n",
    "            '\"{}-{}\": \"data:image/jpeg;base64,{}\"'.format(layer, channel, encoded_string.decode(\"utf-8\"))\n",
    "        )\n",
    "        \n",
    "#         print(encoded_string.decode(\"utf-8\"))\n",
    "#         sdf\n",
    "        # Comma\n",
    "        if th < len(imgs_c) - 1:\n",
    "            write_f.write(',')\n",
    "        \n",
    "        # Newline\n",
    "        write_f.write('\\n')\n",
    "    \n",
    "    write_f.write('}')"
   ]
  },
  {
   "cell_type": "code",
   "execution_count": 3,
   "metadata": {},
   "outputs": [],
   "source": [
    "for filename in imgs_p:\n",
    "    # Read\n",
    "    read_filepath = '%s/%s' % (dirpath_p, filename)\n",
    "    with open(read_filepath, 'rb') as f:\n",
    "        encoded_string = base64.b64encode(f.read())\n",
    "        \n",
    "    # Write\n",
    "    write_filename = filename.split('.jpg')[0] + '.txt'\n",
    "    write_filepath = '%s/%s' % (dirpath_p, write_filename)\n",
    "    with open(write_filepath, 'wb') as f:\n",
    "        f.write(encoded_string)"
   ]
  },
  {
   "cell_type": "code",
   "execution_count": null,
   "metadata": {},
   "outputs": [],
   "source": []
  }
 ],
 "metadata": {
  "kernelspec": {
   "display_name": "Python 3",
   "language": "python",
   "name": "python3"
  },
  "language_info": {
   "codemirror_mode": {
    "name": "ipython",
    "version": 3
   },
   "file_extension": ".py",
   "mimetype": "text/x-python",
   "name": "python",
   "nbconvert_exporter": "python",
   "pygments_lexer": "ipython3",
   "version": "3.7.3"
  }
 },
 "nbformat": 4,
 "nbformat_minor": 4
}
